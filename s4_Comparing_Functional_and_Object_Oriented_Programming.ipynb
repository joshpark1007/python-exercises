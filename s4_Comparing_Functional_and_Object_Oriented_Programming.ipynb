{
 "cells": [
  {
   "cell_type": "markdown",
   "metadata": {},
   "source": [
    "### What is a Paradigm?\n",
    "\n",
    "Let's talk about two different **paradigms**, that is, different ideas about **how** solving a programming problem can work:\n",
    "\n",
    "1. **imperative**: describes a way of thinking about a programming problem. Specifically, thinking about a programming problem in terms of how to perform tasks and how to manage state\n",
    "1. **declarative**: describes a way of thinking about a programming problem. Specifically, thinking about a programming problem in terms of what _output_ we want, without having to know the details of how we got there.\n",
    "\n",
    "Different programming languages adopt each of these to different degrees. \n",
    "\n",
    "For example, in Ruby, when you want to write a web app, you inherit from classes (usually defined by a framework like Rails or Sinatra) that are specifically designed to help you keep track of _state_ (database records, attributes on objects) and _behavior_ (which requests are supposed to route to what actions). \n",
    "\n",
    "By comparison, in SQL, you write a statement declaring what data you want out of the database and how you want it organized. SQL decides for you how to get the thing you want—whether to use indices, what order to do things in, et cetera—without bothering you to specify that information.\n",
    "\n",
    "### How do we implement the paradigms?\n",
    "\n",
    "**Chiefly, programming languages _implement_ these two paradigms with object-based implementations or function-based implementations**\n",
    "\n",
    "1. **object-based**: describes the implementation of a solution in code. Specifically, a solution that depends on the instantiation of, use of, and inheritance from objects.\n",
    "1. **function-based**: describes the implementation of a solution in code. Specifically, a solution that depends on the definition of, use of, and passing of functions to functions.\n",
    "\n",
    "These are not the only ways to implement the paradigms. Huge, common example: SQL is largely not a functional language. You aren't passing functions around to functions. But it does implement the declarative _paradigm_ (how SQL works is a whole fascinating subject that I'm not talking about in this class because I'm supposed to teach you Python, but I think this is a _fantastic_ example of where understanding multiple different languages makes you better at understanding each individual language). The point is, the paradigms and the implementations are not equivalent things.\n",
    "\n",
    "### What does \"oriented\" mean?\n",
    " \n",
    "**When a programming language is _oriented_ in a certain direction, it means that the constructs available in that language loan themselves better to one implementation or the other.**\n",
    "\n",
    "- **object-oriented**: describes a programming language. Specifically, one whose constructs make **object-based** solutions convenient to implement.\n",
    "- **functionally-oriented**: describes a programming language. Specifically, one whose constructs make **function-based** solutions convenient to implement.\n",
    "\n",
    "Now, it is _possible_ (though kinda difficult) to make a language that _only_ supports _one_ type of solution. Haskell is pretty close to a **functional** language. Alloy is pretty close to an **object** language. However, the utility of a language drops off pretty fast if it _only_ does one or the other because both are at least a _little_ useful in most programming areas. So **-oriented** means \"one is more convenient, but you can kinda do both.\"\n",
    "\n",
    "Colloquial terminology absolutely butchers this by referring to functionally oriented languages as \"functional\" and object languages as \"object-oriented\" and languages that are oriented either way as \"dual paradigm\" despite the fact that the _paradigm_ is an _idea_, not an _implementation_, and a programming language does not have a _paradigm_. \n",
    "\n",
    "(I firmly believe that the reason that this functional vs. OOP idea is so hard for people is that we use the same term to mean six different things, two of which are sometimes opposites.)\n",
    "\n",
    "### Different Implementations by Example"
   ]
  },
  {
   "cell_type": "code",
   "execution_count": 1,
   "metadata": {},
   "outputs": [],
   "source": [
    "class RedShoulderedBlackbird():\n",
    "    def respond(self):\n",
    "        print(\"I'm going to land on your head, scream at you, then steal your hot dog\")\n",
    "\n",
    "class BigBird():\n",
    "    def respond(self):\n",
    "        print(\"I'm going to teach you a letter of the alphabet!\")\n",
    "        \n",
    "class Parrot():\n",
    "    def __init__(self):\n",
    "        self.annoyed_level = 0\n",
    "        \n",
    "    def respond(self):\n",
    "        self.annoyed_level += 1\n",
    "        if self.annoyed_level < 3:\n",
    "            print(\"I'm going to bite you\")\n",
    "        else:\n",
    "            print(\"OKAY THAT'S IT BUCKO, YOU'RE GETTING THE BEAK!!!!!!!\")\n",
    "        \n",
    "        \n",
    "def eye_contact_with(bird):\n",
    "    bird.respond()"
   ]
  },
  {
   "cell_type": "code",
   "execution_count": 2,
   "metadata": {},
   "outputs": [],
   "source": [
    "red_shouldered_blackbird = RedShoulderedBlackbird()\n",
    "big_bird = BigBird()\n",
    "parrot = Parrot()"
   ]
  },
  {
   "cell_type": "code",
   "execution_count": 5,
   "metadata": {
    "scrolled": true
   },
   "outputs": [
    {
     "name": "stdout",
     "output_type": "stream",
     "text": [
      "I'm going to land on your head, scream at you, then steal your hot dog\n",
      "I'm going to teach you a letter of the alphabet!\n",
      "OKAY THAT'S IT BUCKO, YOU'RE GETTING THE BEAK!!!!!!!\n"
     ]
    }
   ],
   "source": [
    "eye_contact_with(red_shouldered_blackbird)\n",
    "eye_contact_with(big_bird)\n",
    "eye_contact_with(parrot)"
   ]
  },
  {
   "cell_type": "code",
   "execution_count": 6,
   "metadata": {},
   "outputs": [
    {
     "name": "stdout",
     "output_type": "stream",
     "text": [
      "I'm going to bite you\n",
      "I'm going to land on your head, scream at you, then steal your hot dog\n",
      "I'm going to teach you a letter of the alphabet!\n"
     ]
    }
   ],
   "source": [
    "def make_eye_contact_with(bird):\n",
    "    if bird == \"Parrot\":\n",
    "        print(\"I'm going to bite you\")\n",
    "    elif bird == \"RedShoulderedBlackbird\":\n",
    "        print(\"I'm going to land on your head, scream at you, then steal your hot dog\")\n",
    "    elif bird == \"BigBird\":\n",
    "        print(\"I'm going to teach you a letter of the alphabet!\")\n",
    "\n",
    "make_eye_contact_with(\"Parrot\")\n",
    "make_eye_contact_with(\"RedShoulderedBlackbird\")\n",
    "make_eye_contact_with(\"BigBird\")      "
   ]
  }
 ],
 "metadata": {
  "kernelspec": {
   "display_name": "Python 3 (ipykernel)",
   "language": "python",
   "name": "python3"
  },
  "language_info": {
   "codemirror_mode": {
    "name": "ipython",
    "version": 3
   },
   "file_extension": ".py",
   "mimetype": "text/x-python",
   "name": "python",
   "nbconvert_exporter": "python",
   "pygments_lexer": "ipython3",
   "version": "3.10.8"
  }
 },
 "nbformat": 4,
 "nbformat_minor": 4
}
