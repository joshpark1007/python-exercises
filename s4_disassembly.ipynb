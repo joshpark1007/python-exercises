{
 "cells": [
  {
   "cell_type": "code",
   "execution_count": null,
   "id": "4b9c90f5-1b01-42c7-8492-cce76cfce32b",
   "metadata": {},
   "outputs": [],
   "source": [
    "import dis"
   ]
  },
  {
   "cell_type": "code",
   "execution_count": null,
   "id": "602b3d5e-707e-4c23-ae07-a80ef26707be",
   "metadata": {},
   "outputs": [],
   "source": [
    "dis.dis(\"1+1\")"
   ]
  },
  {
   "cell_type": "code",
   "execution_count": null,
   "id": "5eacc710-d02c-4690-a020-99b6b06d6d84",
   "metadata": {},
   "outputs": [],
   "source": [
    "def add_ones():\n",
    "    return 1 + 1\n",
    "\n",
    "dis.dis(add_ones)"
   ]
  },
  {
   "cell_type": "code",
   "execution_count": null,
   "id": "73c914aa-9fd3-4a58-a978-a958b6e3a7f4",
   "metadata": {},
   "outputs": [],
   "source": [
    "def add_two_numbers(a, b):\n",
    "    return a + b\n",
    "\n",
    "dis.dis(add_two_numbers)"
   ]
  },
  {
   "cell_type": "code",
   "execution_count": null,
   "id": "81e1e686-68d0-448f-8d2f-40412784058b",
   "metadata": {},
   "outputs": [],
   "source": [
    "def add_three_numbers(a, b, c):\n",
    "    traceback.print_stack()\n",
    "    return a + b + c\n",
    "\n",
    "dis.dis(add_three_numbers)"
   ]
  },
  {
   "cell_type": "code",
   "execution_count": null,
   "id": "eafee252-d28d-46d9-af73-3a47aa5241f2",
   "metadata": {},
   "outputs": [],
   "source": [
    "def looping_sum(start, end, increment):\n",
    "    result = 0\n",
    "    for item in range(start, end, increment):\n",
    "        result += item\n",
    "    return result\n",
    "\n",
    "dis.dis(looping_sum)"
   ]
  },
  {
   "cell_type": "code",
   "execution_count": null,
   "id": "e0398605-d7c2-4d8b-9f73-448ef2dfb81b",
   "metadata": {},
   "outputs": [],
   "source": [
    "dis.dis(\n",
    "\"\"\"\n",
    "result = 0\n",
    "for item in range(start, end, increment):\n",
    "    result += item\n",
    "\"\"\"\n",
    ")"
   ]
  },
  {
   "cell_type": "code",
   "execution_count": null,
   "id": "e88d7841-da9e-4d6d-9d6b-b1508e7cc881",
   "metadata": {},
   "outputs": [],
   "source": [
    "import time\n",
    "\n",
    "start = time.perf_counter()\n",
    "looping_sum(1, 10000000, 1)\n",
    "end = time.perf_counter()\n",
    "\n",
    "print(end - start)"
   ]
  },
  {
   "cell_type": "code",
   "execution_count": null,
   "id": "f255d9e9-ce8e-4a56-83d2-e60c4ca9c01e",
   "metadata": {},
   "outputs": [],
   "source": [
    "import time\n",
    "\n",
    "start = time.perf_counter()\n",
    "result = 0\n",
    "for item in range(1, 10000000, 1):\n",
    "    result += item\n",
    "print(result)\n",
    "end = time.perf_counter()\n",
    "\n",
    "print(end - start)"
   ]
  },
  {
   "cell_type": "markdown",
   "id": "b638d74c-63e9-4927-811b-097ed2cd3966",
   "metadata": {},
   "source": [
    "## Resources:\n",
    "\n",
    " - [dis documentation](https://docs.python.org/3/library/dis.html)"
   ]
  },
  {
   "cell_type": "code",
   "execution_count": null,
   "id": "7f25e387-51ab-469b-82c7-9d406345b981",
   "metadata": {},
   "outputs": [],
   "source": []
  }
 ],
 "metadata": {
  "kernelspec": {
   "display_name": "Python 3 (ipykernel)",
   "language": "python",
   "name": "python3"
  },
  "language_info": {
   "codemirror_mode": {
    "name": "ipython",
    "version": 3
   },
   "file_extension": ".py",
   "mimetype": "text/x-python",
   "name": "python",
   "nbconvert_exporter": "python",
   "pygments_lexer": "ipython3",
   "version": "3.10.8"
  }
 },
 "nbformat": 4,
 "nbformat_minor": 5
}
