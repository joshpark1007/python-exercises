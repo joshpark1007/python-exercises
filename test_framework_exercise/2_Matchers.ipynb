{
 "cells": [
  {
   "cell_type": "markdown",
   "metadata": {},
   "source": [
    "In the last notebook, we wrote tests for this terrible implementation of `find_twos`:"
   ]
  },
  {
   "cell_type": "code",
   "execution_count": null,
   "metadata": {},
   "outputs": [],
   "source": [
    "def find_twos(first_list, second_list):\n",
    "    return []"
   ]
  },
  {
   "cell_type": "markdown",
   "metadata": {},
   "source": [
    "**You do not have to make find_twos in this notebook work correctly.** But we can use this poor implementation of the function to understand and evaluate what tests look like when they pass and fail.\n",
    "\n",
    "When we write the tests before the code, that is called **Test Driven Development (TDD)**."
   ]
  },
  {
   "cell_type": "markdown",
   "metadata": {},
   "source": [
    "How would we make sure that `find_twos` is working?\n",
    "\n",
    "### This is one way:"
   ]
  },
  {
   "cell_type": "code",
   "execution_count": null,
   "metadata": {},
   "outputs": [],
   "source": [
    "def test_find_twos():\n",
    "    assert(find_twos([], []) == [])\n",
    "    assert(find_twos([2], [12]) == [])\n",
    "    assert(find_twos([12], [12]) == [12])\n",
    "    assert(find_twos([12, 2], [12]) == [12])\n",
    "    assert(find_twos([12, 2, 3], [12, 2]) == [12, 2])\n",
    "    assert(find_twos([12, 3], [12, 2]) == [12])\n",
    "    assert(find_twos([1, 3, 4], [1, 3, 4]) == [])\n",
    "    \n",
    "test_find_twos()"
   ]
  },
  {
   "cell_type": "markdown",
   "metadata": {},
   "source": [
    "**What are some of the problems with that way?**"
   ]
  },
  {
   "cell_type": "markdown",
   "metadata": {},
   "source": [
    "### OK, how about this way? Is this better?"
   ]
  },
  {
   "cell_type": "code",
   "execution_count": null,
   "metadata": {},
   "outputs": [],
   "source": [
    "def test(function, examples):\n",
    "    passed = 0\n",
    "    run = 0\n",
    "\n",
    "    for example in examples:\n",
    "        run += 1\n",
    "        expected = example[-1]\n",
    "        actual = function(*example[:-1])\n",
    "\n",
    "        if expected == actual:\n",
    "            passed += 1\n",
    "        else:\n",
    "            print(f\"Whoops. For example {example}, the function returned {actual}.\")\n",
    "\n",
    "    print(f\"\\n{passed} out of {run} examples worked as expected.\")\n",
    "\n",
    "find_twos_examples = [\n",
    "    (\"\", \"\", []),\n",
    "    (\"1\", \"1, 3\", []),\n",
    "    (\"2\", \"\", []),\n",
    "    (\"2\", \"1, 3\", []),\n",
    "    (\"2\", \"2\", [2]),\n",
    "    (\"2\", \"12\", []),\n",
    "    (\"12\", \"2, 12\", [12]),\n",
    "    (\"1, 3, 5, 12, 7, 200\", \"2, 6, 9, 200, 5\", [200]),\n",
    "    (\"1, 2, 20, 22, 44, 99\", \"3, 5, 22, 100, 44, 2\", [2, 22]),\n",
    "    (\"1,2, 20,22, 44, 99\", \"3,5, 22, 100, 44, 2\", [2, 22]),\n",
    "    (\"1,2, 20,22, 22,44, 20, 99\", \"3,5, 22, 100, 44, 2\", [2, 22]),\n",
    "    (\"1, 2, 20, 22\", \"3, 2, 20, 22\", [2, 20, 22]),\n",
    "]\n",
    "\n",
    "test(function=find_twos, examples=find_twos_examples)"
   ]
  },
  {
   "cell_type": "markdown",
   "metadata": {},
   "source": [
    "**What do you like about this way? What don't you like about this way?**\n",
    "\n",
    "In the last notebook, we took a look at a `PhoenixTest` test runner that works better than either of these, but _it_ had some problems, too. What were they?"
   ]
  },
  {
   "cell_type": "markdown",
   "metadata": {},
   "source": [
    "### It's time to talk about the second critical component of a test framework: matchers.\n",
    "\n",
    "What if we could get clearer output from our tests? Suppose we could do something like this for `find_twos`:\n",
    "\n",
    "```\n",
    ">>> assert_that(find_twos(\"\", \"\")).equals([])\n",
    ">>> True\n",
    "\n",
    ">>> assert_that(find_twos(\"\", \"\")).equals([\"wrong answer\"])\n",
    ">>> FailedAssertion: Expected ['wrong answer'] but got []\n",
    "```\n",
    "\n",
    "Wouldn't that be nicer?\n",
    "\n",
    "Let's see if we can create an API like that. Here's some code to get you started: "
   ]
  },
  {
   "cell_type": "code",
   "execution_count": null,
   "metadata": {},
   "outputs": [],
   "source": [
    "class FailedAssertion(Exception):\n",
    "    pass\n",
    "\n",
    "class Assertion:\n",
    "    def __init__(self, expression):\n",
    "        self.expression = expression\n",
    "\n",
    "    def equals(self, expected_result):\n",
    "        '''\n",
    "            This method should return True if the assertion works\n",
    "            And it should raise a FailedAssertion if it doesn't. GO!\n",
    "        '''\n",
    "        pass\n",
    "\n",
    "def assert_that(expression):\n",
    "    return Assertion(expression)"
   ]
  },
  {
   "cell_type": "code",
   "execution_count": null,
   "metadata": {},
   "outputs": [],
   "source": [
    "assert_that(2 + 2).equals(4) # Should pass"
   ]
  },
  {
   "cell_type": "code",
   "execution_count": null,
   "metadata": {},
   "outputs": [],
   "source": [
    "assert_that(1 + 1).equals(9) # Should fail"
   ]
  },
  {
   "cell_type": "markdown",
   "metadata": {},
   "source": [
    "The `assert_that` and `equals` methods that we have called above are called **matchers**. Test frameworks often have a wide variety of matchers that programmers like you or I can use to write expressions describing all the things we want to check in our tests. We will write more matchers a little later, but `.equals()` is a great one to start with.\n",
    "\n",
    "We can use our `.equals()` matcher to write tests for `find_twos` like this:"
   ]
  },
  {
   "cell_type": "code",
   "execution_count": null,
   "metadata": {},
   "outputs": [],
   "source": [
    "    def test_equals_passing():\n",
    "        assert_that(2 + 2).equals(4)\n",
    "        \n",
    "    def test_equals_failing():\n",
    "        assert_that(1 + 1).equals(9)"
   ]
  },
  {
   "cell_type": "code",
   "execution_count": null,
   "metadata": {},
   "outputs": [],
   "source": [
    "test_equals_pasing()\n",
    "test_equals_failing()"
   ]
  },
  {
   "cell_type": "markdown",
   "metadata": {},
   "source": [
    "### Challenge:\n",
    "\n",
    "Implement the `equals` matcher. When it is working, the first test above should _pass_, and the second test should raise a `FailedAssertion` with a message like \"expected 9 but got 2.\""
   ]
  },
  {
   "cell_type": "markdown",
   "metadata": {},
   "source": [
    "### Okay, so. \n",
    "\n",
    "Now let's get a little more sophisticated. We've got one matcher, and it's a pretty useful matcher, so we can write a lot of tests with it. But what might be helfpul is to have some more matchers to make our tests more clear and expressive. For example, what if we had an `is_empty` matcher? Then we could do:"
   ]
  },
  {
   "cell_type": "code",
   "execution_count": null,
   "metadata": {},
   "outputs": [],
   "source": [
    "    def test_is_empty_passing():\n",
    "        assert_that([]).is_empty()\n",
    "\n",
    "    def test_is_empty_failing():\n",
    "        assert_that([2, 3, 4]).is_empty()"
   ]
  },
  {
   "cell_type": "code",
   "execution_count": null,
   "metadata": {},
   "outputs": [],
   "source": [
    "test_is_empty_passing()\n",
    "test_is_empty_failing()"
   ]
  },
  {
   "cell_type": "markdown",
   "metadata": {},
   "source": [
    "### Challenge \n",
    "\n",
    "Implement the `is_empty` matcher.\n",
    "\n",
    "Below see a block of example code to help you get started on that:"
   ]
  },
  {
   "cell_type": "code",
   "execution_count": null,
   "metadata": {},
   "outputs": [],
   "source": [
    "# You can technically have a class subclass itself. \n",
    "# I have done so here to avoid copy-pasting the implementation of Assertion over.\n",
    "# We are now adding methods to the assertion class.\n",
    "# In Swift, by the way, there's a keyword for doing exactly this: extension.\n",
    "class Assertion(Assertion): \n",
    "    def is_empty(self):\n",
    "        '''\n",
    "            This method should return True if a collection has no items\n",
    "            And it should raise a FailedAssertion if it doesn't. GO!\n",
    "        '''\n",
    "        pass"
   ]
  },
  {
   "cell_type": "code",
   "execution_count": null,
   "metadata": {},
   "outputs": [],
   "source": [
    "test_is_empty_passing()\n",
    "test_is_empty_failing()"
   ]
  },
  {
   "cell_type": "markdown",
   "metadata": {},
   "source": [
    "After you implement `is_empty()`, the first test should pass and the second test should raise a `FailedAssertion` with a message like \"Expected [2, 3, 4] to be empty.\""
   ]
  },
  {
   "cell_type": "markdown",
   "metadata": {},
   "source": [
    "Good, good. Our test framework is coming along swimmingly. \n",
    "\n",
    "One thing to know about tests is, when we're testing collections, it is often helpful to make sure the collection is the right _size_ before we go into a bunch of complicated assertions about what's _in_ it. With a nice matcher, we could do that like:"
   ]
  },
  {
   "cell_type": "code",
   "execution_count": null,
   "metadata": {},
   "outputs": [],
   "source": [
    "    def test_has_size_passing():\n",
    "        assert_that([]).has_size(0)\n",
    "        assert_that([3]).has_size(1)\n",
    "\n",
    "    def test_has_size_failing():\n",
    "        assert_that([4, 5, 6]).has_size(10)"
   ]
  },
  {
   "cell_type": "code",
   "execution_count": null,
   "metadata": {},
   "outputs": [],
   "source": [
    "test_has_size_passing()\n",
    "test_has_size_failing()"
   ]
  },
  {
   "cell_type": "markdown",
   "metadata": {},
   "source": [
    "### Challenge: \n",
    "\n",
    "Implement the `has_size` assertion."
   ]
  },
  {
   "cell_type": "code",
   "execution_count": null,
   "metadata": {},
   "outputs": [],
   "source": [
    "class Assertion(Assertion): \n",
    "    def has_size(self, size):\n",
    "        '''\n",
    "            This method should return True if a collection has the right number of items\n",
    "            And it should raise a FailedAssertion if it doesn't. GO!\n",
    "        '''\n",
    "        pass"
   ]
  },
  {
   "cell_type": "code",
   "execution_count": null,
   "metadata": {},
   "outputs": [],
   "source": [
    "test_has_size_passing()\n",
    "test_has_size_failing()"
   ]
  },
  {
   "cell_type": "markdown",
   "metadata": {},
   "source": [
    "When you run _these_ tests, the first one should pass and the second one should raise a `FailedAssertion` with a message like \"Expected size 10, but got size 3.\" "
   ]
  },
  {
   "cell_type": "markdown",
   "metadata": {},
   "source": [
    "Let's do just one more today. One of the annoying things about our implementation right now is that `find_twos` has to return results in a specific _order_ for the assertion to pass. For example, if we check:\n",
    "\n",
    "```\n",
    "assert_that(find_twos(\"1, 2, 20, 22, 44, 99\", \"3, 5, 22, 100, 44, 2\")).equals([2, 22])\n",
    "```\n",
    "\n",
    "And `find_twos` returns `[22, 2]`, it will fail. \n",
    "\n",
    "What if we don't care about order? What if we just want to make sure all the right items are in the collection, regardless of order? Then we could do:"
   ]
  },
  {
   "cell_type": "code",
   "execution_count": null,
   "metadata": {},
   "outputs": [],
   "source": [
    "    def test_has_items_passing():\n",
    "        assert_that([2, 22]).has_items(22)\n",
    "        assert_that([2, 22]).has_items(22, 2)\n",
    "\n",
    "    def test_has_items_failing():\n",
    "        assert_that([2, 22]).has_items(44)"
   ]
  },
  {
   "cell_type": "code",
   "execution_count": null,
   "metadata": {},
   "outputs": [],
   "source": [
    "test_has_items_passing()\n",
    "test_has_items_failing()"
   ]
  },
  {
   "cell_type": "markdown",
   "metadata": {},
   "source": [
    "### Challenge:\n",
    "\n",
    "Implement the `has_items` assertion.\n",
    "\n",
    "NOTE THAT the implementation above doesn't require the items to be passed in as a collection. Instead, the programmer writing the test can just pass in as many items to this method as they want."
   ]
  },
  {
   "cell_type": "code",
   "execution_count": null,
   "metadata": {},
   "outputs": [],
   "source": [
    "class Assertion(Assertion): \n",
    "    def has_items(self, *args):\n",
    "        '''\n",
    "            This method should return True if a collection has the right items\n",
    "            And it should raise a FailedAssertion if it doesn't. GO!\n",
    "        '''\n",
    "        pass"
   ]
  },
  {
   "cell_type": "code",
   "execution_count": null,
   "metadata": {},
   "outputs": [],
   "source": [
    "test_has_items_passing()\n",
    "test_has_items_failing()"
   ]
  },
  {
   "cell_type": "markdown",
   "metadata": {},
   "source": [
    "Once you've implemented `has_items`, the first test above should pass and the second should raise a `FailedAssertion` with a message like \"Expected input to have item 44.\""
   ]
  }
 ],
 "metadata": {
  "kernelspec": {
   "display_name": "Python 3 (ipykernel)",
   "language": "python",
   "name": "python3"
  },
  "language_info": {
   "codemirror_mode": {
    "name": "ipython",
    "version": 3
   },
   "file_extension": ".py",
   "mimetype": "text/x-python",
   "name": "python",
   "nbconvert_exporter": "python",
   "pygments_lexer": "ipython3",
   "version": "3.10.8"
  }
 },
 "nbformat": 4,
 "nbformat_minor": 4
}
