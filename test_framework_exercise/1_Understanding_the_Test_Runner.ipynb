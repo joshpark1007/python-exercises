{
 "cells": [
  {
   "cell_type": "markdown",
   "metadata": {},
   "source": [
    "## So now you have seen two popular unit testing libraries for Python: unittest and pytest.\n",
    "\n",
    "Today, we're going to work on our _own_ unit testing framework and replicate some of the functionality that those test frameworks provide.\n",
    "\n",
    "A unit test library, at its most basic level, really needs two things: \n",
    "\n",
    "1. **A runner:** A way to run all the tests at once. Otherwise, you could just manually call your functions one at a time and look at the result with your eyeballs to see if things are working.\n",
    "2. **Matchers:** Because when you run a bunch of tests at once, since you're not already queued in to the specific part of the code that's broken, you need clear messaging about what went wrong in the ones that failed and why, and you don't get that out of the box from your programming language itself.\n",
    "\n",
    "Today, we're going to start with the runner portion.\n",
    "\n",
    "In unittest, any test class that inherits from `unittest.TestCase` gets run when you run the unittest command in your directory. That behavior comes from the `TestCase` class itself. We're going to replicate that functionality now in our own class, called `PhoenixTest`. "
   ]
  },
  {
   "cell_type": "code",
   "execution_count": null,
   "metadata": {},
   "outputs": [],
   "source": [
    "class PhoenixTest():\n",
    "    # Runs all the test methods. HOW?!?!\n",
    "    def run(self):\n",
    "        test_methods = [\n",
    "            token for token in dir(self) \\\n",
    "            if token.startswith(\"test\")  \\\n",
    "            and callable(getattr(self.__class__, token))\n",
    "        ]\n",
    "        for method in test_methods:\n",
    "            print(f\"Running {method}.\")\n",
    "            try:\n",
    "                getattr(self.__class__, method).__call__(self)\n",
    "            except Exception as e:\n",
    "                print(\"Exception detected!\")\n",
    "                print(e) "
   ]
  },
  {
   "cell_type": "markdown",
   "metadata": {},
   "source": [
    "### Let's look at what is happening in this `run` method.\n",
    "\n",
    "1. \"test_methods\" is assigned using a **list comprehension**\n",
    "1. The backslashes in the list comprehension allow me to split what would be a very long line of Python into multiple lines for better legibility.\n",
    "\n",
    "You should recognize:\n",
    "1. The for loop\n",
    "1. The f-string in the print statement\n",
    "\n",
    "### Challenge: \n",
    "\n",
    "What are these things doing?\n",
    "\n",
    "1. The `dir` method\n",
    "1. The `.startswith()` method\n",
    "1. The `.__class__` method\n",
    "1. The `try` and `except` blocks\n",
    "1. The `.__getattr__` method\n",
    "1. The `callable` method\n",
    "1. The `__call__` method\n",
    "\n",
    "### This is very important: \n",
    "\n",
    "You will spend 90% of your programming time _reading_ code and the other 10% _writing_ code. So it is critical to practice _reading_ code and understanding what it is doing.\n",
    "\n",
    "### Code Investigation Tool #1: Python's Built-In Documentation\n",
    "\n",
    "Python provides you with some assistance for researching code that you are reading:"
   ]
  },
  {
   "cell_type": "code",
   "execution_count": null,
   "metadata": {},
   "outputs": [],
   "source": [
    "dir.__doc__"
   ]
  },
  {
   "cell_type": "code",
   "execution_count": null,
   "metadata": {},
   "outputs": [],
   "source": [
    "help(dir)"
   ]
  },
  {
   "cell_type": "markdown",
   "metadata": {},
   "source": [
    "So the Test class is going to be our **superclass**. We can now **subclass** that Test class like so:"
   ]
  },
  {
   "cell_type": "code",
   "execution_count": null,
   "metadata": {},
   "outputs": [],
   "source": [
    "def find_twos(first, second):\n",
    "    '''\n",
    "        Theoretically, this function should accept two comma-separated strings, divide them into lists,\n",
    "        and return a list containing any number containing the digit 'two' that appears in both strings.\n",
    "\n",
    "        Implementing this function is one of the first homework problems in the reguler Python Programming class.\n",
    "\n",
    "        The initial implementation they are given is the one you see here; the function just returns an empty list.\n",
    "        It doesn't have the actual functionality yet.\n",
    "\n",
    "        We will use this initial implementation as an example for writing some unit tests.\n",
    "    '''\n",
    "    return []\n",
    "\n",
    "class FindTwosTest(PhoenixTest):\n",
    "    test_useless_attribute = None\n",
    "    test_other_useless_attribute = None\n",
    "\n",
    "    def test_empty_inputs(self):\n",
    "        print(\"\")\n",
    "        assert find_twos(\"\", \"\") == []\n",
    "        assert find_twos(\"2\", \"\") == []\n",
    "        assert find_twos(\"\", \"2\") == []\n",
    "\n",
    "    def test_non_matching_sets(self):\n",
    "        assert find_twos(\"1\", \"1, 3\") == []\n",
    "\n",
    "    def test_non_matching_twos(self):\n",
    "        assert find_twos(\"2\", \"1, 3\") == []\n",
    "        \n",
    "    def test_matches(self):\n",
    "        assert find_twos(\"12\", \"2, 12\") == [12]"
   ]
  },
  {
   "cell_type": "code",
   "execution_count": null,
   "metadata": {},
   "outputs": [],
   "source": [
    "FindTwosTest().run()"
   ]
  },
  {
   "cell_type": "markdown",
   "metadata": {},
   "source": [
    "### Code Investigation Tool #2: Running Your Own Experiments\n",
    "\n",
    "On _this particular_ code, I have kept it in small chunks inside of a REPL environment so that you can remove or change lines of code to investigate what they are doing.\n",
    "\n",
    "### Challenge: \n",
    "\n",
    "1. What happens if you remove the \"f\" from the front of the f-string?\n",
    "1. What happens if you comment out `and callable(getattr(self.__class__, token))` in the list comprehension?\n",
    "1. What happens if you remove the try/except above and just call `getattr(self.__class__, method).__call__(self)` right after the print statement?"
   ]
  },
  {
   "cell_type": "markdown",
   "metadata": {},
   "source": [
    "### We have a test runner!\n",
    "\n",
    "Now, things could be better about this test runner. \n",
    "\n",
    "### Challenge: \n",
    "\n",
    "Get the test output to count up and print out passages and failures for the test class that you've run."
   ]
  },
  {
   "cell_type": "code",
   "execution_count": null,
   "metadata": {},
   "outputs": [],
   "source": [
    "FindTwosTest().run()"
   ]
  },
  {
   "cell_type": "markdown",
   "metadata": {},
   "source": [
    "### Challenge:\n",
    "\n",
    "Get the test output to print in COLORS!\n",
    "\n",
    "Below see a block of example code to help you get started on that:"
   ]
  },
  {
   "cell_type": "code",
   "execution_count": null,
   "metadata": {},
   "outputs": [],
   "source": [
    "import sys\n",
    "\n",
    "# For this, we need to install a library.\n",
    "# When code requires a library to do something, we call that a dependency.\n",
    "!{sys.executable} -m pip install colorama \n",
    "\n",
    "from colorama import Fore, Back, Style \n",
    "print(Fore.RED + 'some red text') \n",
    "print(Fore.GREEN + 'and some green text') \n",
    "print(Back.YELLOW + 'you can also do backgrounds')\n",
    "print(Style.RESET_ALL) \n",
    "print('back to normal now')"
   ]
  },
  {
   "cell_type": "code",
   "execution_count": null,
   "metadata": {},
   "outputs": [],
   "source": [
    "FindTwosTest().run()"
   ]
  }
 ],
 "metadata": {
  "kernelspec": {
   "display_name": "Python 3 (ipykernel)",
   "language": "python",
   "name": "python3"
  },
  "language_info": {
   "codemirror_mode": {
    "name": "ipython",
    "version": 3
   },
   "file_extension": ".py",
   "mimetype": "text/x-python",
   "name": "python",
   "nbconvert_exporter": "python",
   "pygments_lexer": "ipython3",
   "version": "3.10.8"
  }
 },
 "nbformat": 4,
 "nbformat_minor": 4
}
